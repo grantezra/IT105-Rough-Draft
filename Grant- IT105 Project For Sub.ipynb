{
 "cells": [
  {
   "cell_type": "code",
   "execution_count": 11,
   "metadata": {},
   "outputs": [],
   "source": [
    "import sympy #imports the Sympy library\n",
    "from sympy.interactive import printing  #imports basicn functions that allow sympy to unteract with python\n",
    "printing.init_printing(use_latex=True) #makes the output look pretty.\n",
    "from sympy import Eq, solve_linear_system, Matrix #imports the equation and matrix functions\n",
    "from sympy import * \n",
    "from sympy import Function, dsolve, Derivative # imports the function, dsolve, and dervative functions\n",
    "import sympy as sp #renames the sympy libary for this function\n",
    "import numpy as np #imports a linrary similar to sympy"
   ]
  },
  {
   "cell_type": "code",
   "execution_count": 12,
   "metadata": {},
   "outputs": [
    {
     "name": "stdout",
     "output_type": "stream",
     "text": [
      "This calculator will provide you with prompt you to enter the a,b,c,and d values of a two by two matrix which was extracted from a system of differential equations. The calculator will provide a general solution to the system of diff eqs. It will also provide the eiganvalues and eiganvectors given that you are runnnig the proper software.\n"
     ]
    }
   ],
   "source": [
    "print(\"This calculator will provide you with prompt you to enter the a,b,c,and d values of a two by two matrix which was extracted from a system of differential equations. The calculator will provide a general solution to the system of diff eqs. It will also provide the eiganvalues and eiganvectors given that you are runnnig the proper software.\")"
   ]
  },
  {
   "cell_type": "code",
   "execution_count": 13,
   "metadata": {},
   "outputs": [
    {
     "name": "stdout",
     "output_type": "stream",
     "text": [
      "From your system of differental equations. Extract the 2x2 matrix.\n"
     ]
    }
   ],
   "source": [
    "print(\"From your system of differental equations. Extract the 2x2 matrix.\")"
   ]
  },
  {
   "cell_type": "code",
   "execution_count": 22,
   "metadata": {},
   "outputs": [
    {
     "name": "stdout",
     "output_type": "stream",
     "text": [
      "input a value of a 2x2 matrix-6\n",
      "input b value of a 2x2 matrix5\n",
      "input c value of a 2x2 matrix-5\n",
      "input d value of a 2x2 matrix4\n"
     ]
    }
   ],
   "source": [
    "a=float(input(\"input a value of a 2x2 matrix:\")) #records the 4 parts of a 2x2 matrix\n",
    "b=float(input(\"input b value of a 2x2 matrix:\"))\n",
    "c=float(input(\"input c value of a 2x2 matrix:\"))\n",
    "d=float(input(\"input d value of a 2x2 matrix:\"))\n"
   ]
  },
  {
   "cell_type": "code",
   "execution_count": 15,
   "metadata": {},
   "outputs": [],
   "source": [
    "#establishes varibales as symbols\n",
    "t,C1,C2 = symbols(\"t C1 C2\")\n",
    "x,y = symbols(\"x y\", cls=Function, Function = True)"
   ]
  },
  {
   "cell_type": "code",
   "execution_count": null,
   "metadata": {},
   "outputs": [],
   "source": []
  },
  {
   "cell_type": "code",
   "execution_count": 17,
   "metadata": {
    "scrolled": false
   },
   "outputs": [
    {
     "name": "stdout",
     "output_type": "stream",
     "text": [
      "The eiganvalues are:\n",
      "{5 - 2*sqrt(6)*I: 1, 5 + 2*sqrt(6)*I: 1}\n"
     ]
    }
   ],
   "source": [
    "M = Matrix([[a, b], [c, d]])\n",
    "print(\"The eiganvalues are:\") #prints the eigan system, but it is only readable in software such as jupyter. \n",
    "M.eigenvals()\n",
    "print(M.eigenvals())"
   ]
  },
  {
   "cell_type": "code",
   "execution_count": 18,
   "metadata": {},
   "outputs": [
    {
     "name": "stdout",
     "output_type": "stream",
     "text": [
      "The eiganvectors are:\n",
      "[(5.0 - 4.89897948556636*I, 1, [Matrix([\n",
      "[0.2 - 0.979795897113271*I],\n",
      "[                      1.0]])]), (5.0 + 4.89897948556636*I, 1, [Matrix([\n",
      "[0.2 + 0.979795897113271*I],\n",
      "[                      1.0]])])]\n"
     ]
    }
   ],
   "source": [
    "print(\"The eiganvectors are:\")\n",
    "M.eigenvects()\n",
    "print(M.eigenvects())"
   ]
  },
  {
   "cell_type": "code",
   "execution_count": 23,
   "metadata": {
    "scrolled": true
   },
   "outputs": [],
   "source": [
    "\n",
    "eq1 = Eq(diff(x(t), t),a*x(t)+b*y(t))\n",
    "eq2 = Eq(diff(y(t),t),c*x(t)+d*y(t))\n",
    "soln = dsolve((eq1, eq2))  #provides a general solution to two differntal equations\n"
   ]
  },
  {
   "cell_type": "code",
   "execution_count": null,
   "metadata": {},
   "outputs": [],
   "source": [
    "print(\"The general solutions in x and y components are:\")\n"
   ]
  },
  {
   "cell_type": "code",
   "execution_count": 24,
   "metadata": {},
   "outputs": [
    {
     "data": {
      "image/png": "[encoded data removed]",
      "text/latex": [
       "$$\\left [ x{\\left (t \\right )} = \\left(10.0 C_{1} + 10.0 C_{2} t - 1.0 C_{2}\\right) e^{- 1.0 t}, \\quad y{\\left (t \\right )} = \\left(10.0 C_{1} + 10.0 C_{2} t + C_{2}\\right) e^{- 1.0 t}\\right ]$$"
      ],
      "text/plain": [
       "⎡                                       -1.0⋅t                                \n",
       "⎣x(t) = (10.0⋅C₁ + 10.0⋅C₂⋅t - 1.0⋅C₂)⋅ℯ      , y(t) = (10.0⋅C₁ + 10.0⋅C₂⋅t + \n",
       "\n",
       "     -1.0⋅t⎤\n",
       "C₂)⋅ℯ      ⎦"
      ]
     },
     "metadata": {},
     "output_type": "display_data"
    }
   ],
   "source": [
    "display(soln)"
   ]
  },
  {
   "cell_type": "code",
   "execution_count": 10,
   "metadata": {},
   "outputs": [
    {
     "name": "stdout",
     "output_type": "stream",
     "text": [
      "Rememeber that the eiganvector associated with the solutin can be different. The solution produced may not be in a different from the textbook or webassign. \n"
     ]
    }
   ],
   "source": [
    "print(\"Rememeber that the eiganvector associated with the solutin can be different as long as it has the same ratio. The solution produced may not be in a different form from the textbook or webassign. \")"
   ]
  },
  {
   "cell_type": "code",
   "execution_count": null,
   "metadata": {},
   "outputs": [],
   "source": []
  },
  {
   "cell_type": "code",
   "execution_count": null,
   "metadata": {},
   "outputs": [],
   "source": []
  }
 ],
 "metadata": {
  "kernelspec": {
   "display_name": "Python 3",
   "language": "python",
   "name": "python3"
  },
  "language_info": {
   "codemirror_mode": {
    "name": "ipython",
    "version": 3
   },
   "file_extension": ".py",
   "mimetype": "text/x-python",
   "name": "python",
   "nbconvert_exporter": "python",
   "pygments_lexer": "ipython3",
   "version": "3.6.4"
  }
 },
 "nbformat": 4,
 "nbformat_minor": 2
}
