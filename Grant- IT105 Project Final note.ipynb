{
 "cells": [
  {
   "cell_type": "code",
   "execution_count": 12,
   "metadata": {},
   "outputs": [],
   "source": [
    "import sympy #imports the Sympy library\n",
    "from sympy.interactive import printing  #imports basicn functions that allow sympy to unteract with python\n",
    "printing.init_printing(use_latex=True) #makes the output look pretty.\n",
    "from sympy import Eq, solve_linear_system, Matrix #imports the equation and matrix functions\n",
    "from sympy import * \n",
    "from sympy import Function, dsolve, Derivative # imports the function, dsolve, and dervative functions\n",
    "import sympy as sp #renames the sympy libary for this function"
   ]
  },
  {
   "cell_type": "code",
   "execution_count": null,
   "metadata": {},
   "outputs": [],
   "source": [
    "a=float(input(\"input a value of a 2x2 matrix\")) \n",
    "b=float(input(\"input b value of a 2x2 matrix\"))\n",
    "c=float(input(\"input c value of a 2x2 matrix\"))\n",
    "d=float(input(\"input d value of a 2x2 matrix\"))\n"
   ]
  },
  {
   "cell_type": "code",
   "execution_count": 15,
   "metadata": {},
   "outputs": [],
   "source": [
    "#establishes varibales as symbols\n",
    "t,C1,C2 = symbols(\"t C1 C2\")\n",
    "x,y = symbols(\"x y\", cls=Function, Function = True)"
   ]
  },
  {
   "cell_type": "code",
   "execution_count": 27,
   "metadata": {
    "scrolled": false
   },
   "outputs": [
    {
     "name": "stdout",
     "output_type": "stream",
     "text": [
      "The eiganvalues are:\n",
      "The eiganvectors are:\n"
     ]
    },
    {
     "data": {
      "text/latex": [
       "$$\\left [ \\left ( -10.0, \\quad 1, \\quad \\left [ \\left[\\begin{matrix}0.25\\\\1.0\\end{matrix}\\right]\\right ]\\right ), \\quad \\left ( 8.0, \\quad 1, \\quad \\left [ \\left[\\begin{matrix}2.5\\\\1.0\\end{matrix}\\right]\\right ]\\right )\\right ]$$"
      ],
      "text/plain": [
       "⎡⎛          ⎡⎡0.25⎤⎤⎞  ⎛        ⎡⎡2.5⎤⎤⎞⎤\n",
       "⎢⎜-10.0, 1, ⎢⎢    ⎥⎥⎟, ⎜8.0, 1, ⎢⎢   ⎥⎥⎟⎥\n",
       "⎣⎝          ⎣⎣1.0 ⎦⎦⎠  ⎝        ⎣⎣1.0⎦⎦⎠⎦"
      ]
     },
     "execution_count": 27,
     "metadata": {},
     "output_type": "execute_result"
    }
   ],
   "source": [
    "M = Matrix([[a, b], [c, d]])  #Displays the eiganvalues and eiganvectors\n",
    "print(\"The eiganvalues are:\")\n",
    "M.eigenvals()\n",
    "print(\"The eiganvectors are:\")\n",
    "M.eigenvects()"
   ]
  },
  {
   "cell_type": "code",
   "execution_count": 5,
   "metadata": {},
   "outputs": [
    {
     "name": "stdout",
     "output_type": "stream",
     "text": [
      "10.0\n"
     ]
    }
   ],
   "source": [
    "print(a)"
   ]
  },
  {
   "cell_type": "code",
   "execution_count": 25,
   "metadata": {
    "scrolled": true
   },
   "outputs": [],
   "source": [
    "\n",
    "eq1 = Eq(diff(x(t), t),a*x(t)+b*y(t))\n",
    "eq2 = Eq(diff(y(t),t),c*x(t)+d*y(t))\n",
    "soln = dsolve((eq1, eq2))  #provides a gneral solution to two differntal equations\n"
   ]
  },
  {
   "cell_type": "code",
   "execution_count": 26,
   "metadata": {},
   "outputs": [
    {
     "data": {
      "image/png": "[encoded data removed]",
      "text/latex": [
       "$$\\left [ x{\\left (t \\right )} = - 5 C_{1} e^{- 10 t} - 5 C_{2} e^{8 t}, \\quad y{\\left (t \\right )} = - 20.0 C_{1} e^{- 10 t} - 2.0 C_{2} e^{8 t}\\right ]$$"
      ],
      "text/plain": [
       "⎡               -10⋅t         8⋅t                    -10⋅t           8⋅t⎤\n",
       "⎣x(t) = - 5⋅C₁⋅ℯ      - 5⋅C₂⋅ℯ   , y(t) = - 20.0⋅C₁⋅ℯ      - 2.0⋅C₂⋅ℯ   ⎦"
      ]
     },
     "metadata": {},
     "output_type": "display_data"
    }
   ],
   "source": [
    "display(soln)"
   ]
  },
  {
   "cell_type": "code",
   "execution_count": null,
   "metadata": {},
   "outputs": [],
   "source": []
  },
  {
   "cell_type": "code",
   "execution_count": null,
   "metadata": {},
   "outputs": [],
   "source": []
  },
  {
   "cell_type": "code",
   "execution_count": null,
   "metadata": {},
   "outputs": [],
   "source": []
  }
 ],
 "metadata": {
  "kernelspec": {
   "display_name": "Python 3",
   "language": "python",
   "name": "python3"
  },
  "language_info": {
   "codemirror_mode": {
    "name": "ipython",
    "version": 3
   },
   "file_extension": ".py",
   "mimetype": "text/x-python",
   "name": "python",
   "nbconvert_exporter": "python",
   "pygments_lexer": "ipython3",
   "version": "3.6.4"
  }
 },
 "nbformat": 4,
 "nbformat_minor": 2
}
